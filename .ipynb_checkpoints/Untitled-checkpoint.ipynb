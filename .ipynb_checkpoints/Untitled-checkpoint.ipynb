{
 "cells": [
  {
   "cell_type": "code",
   "execution_count": null,
   "id": "8016c097",
   "metadata": {},
   "outputs": [],
   "source": [
    "# trying videos"
   ]
  },
  {
   "cell_type": "code",
   "execution_count": null,
   "id": "9e85c83d",
   "metadata": {},
   "outputs": [],
   "source": [
    "import cv2\n",
    "import moviepy.editor as mp\n",
    "import urllib.request\n",
    "from gtts import gTTS\n",
    "from IPython.display import Audio\n",
    "import nltk\n",
    "from nltk.tokenize import sent_tokenize\n",
    "from io import BytesIO\n",
    "from pydub import AudioSegment\n",
    "\n",
    "AudioSegment.ffmpeg = \"C:\\manal\\Python8\\Lib\\site-packages\\ffmpeg\"\n",
    "nltk.download('punkt')\n",
    "    \n",
    "def createGenVideoSlide (prompt, prs, output_pptx, ImagesCounter, slideLayout) :\n",
    "    user_input = get_prompt(prompt)\n",
    "    if user_input == \"done\":\n",
    "        return user_input, ImagesCounter\n",
    "    # create a loop until done\n",
    "    speak.Speak(\"Ok, I am working on it, bear with me, please\")\n",
    "    response_txt = getGenText (output_pptx+\": \" + user_input)      \n",
    "\n",
    "    sentences = sent_tokenize(response_txt)\n",
    "    print(sentences)\n",
    "    \n",
    "    image_paths = response_revised_prompts = []\n",
    "    for i in range (len(sentences)):\n",
    "        image_path, response_revised_prompt = getGenImage(output_pptx+\": Please create a sequence of images for a video assembly for the following prompt: \" + sentences[i], ImagesCounter)\n",
    "        image_paths.append(image_path)\n",
    "        response_revised_prompts.append(response_revised_prompt)\n",
    "        ImagesCounter=ImagesCounter+1\n",
    "\n",
    "    # Generate the entire audio\n",
    "    tts = gTTS(response_txt, lang='en')\n",
    "    audioFileName = output_pptx+\"audio_\"+str(ImagesCounter)+\".mp3\"\n",
    "    tts.save(audioFileName)\n",
    "    audio_fp = BytesIO()\n",
    "    tts.write_to_fp(audio_fp)\n",
    "    audio_fp.seek(0)\n",
    "    audio = AudioSegment.from_mp3(audioFileName)\n",
    "    #audio = AudioSegment.from_file(audio_fp, format=\"mp3\")\n",
    "\n",
    "    # Get the duration of the entire audio in milliseconds\n",
    "    audio_length = len(audio)\n",
    "\n",
    "    # Split audio into segments for each sentence\n",
    "    sentence_audio_lengths = [audio_length * len(sentence) / len(script) for sentence in sentences]\n",
    "\n",
    "    audio_segments = []\n",
    "    start_time = 0\n",
    "    for length in sentence_audio_lengths:\n",
    "        end_time = start_time + length\n",
    "        segment = audio[start_time:end_time]\n",
    "        audio_segments.append(segment)\n",
    "        start_time = end_time\n",
    "\n",
    "    # Load images and audio segments\n",
    "    images = [cv2.imread(image_paths[i]) for i in range(len(image_paths))]\n",
    "    \n",
    "    #Audio(audioFileName)\n",
    "    videoFileName = output_pptx+\"video_\"+str(ImagesCounter)+\".avi\"\n",
    "\n",
    "    \n",
    "    # Create video frames\n",
    "    height, width, layers = images[0].shape\n",
    "    video = cv2.VideoWriter(videoFileName, cv2.VideoWriter_fourcc(*'DIVX'), 30, (width, height))\n",
    "\n",
    "    # Create a silent moviepy video clip from images\n",
    "    image_clips = []\n",
    "    for i, image in enumerate(images):\n",
    "        frame_duration = len(audio_segments[i]) / 1000  # duration in seconds\n",
    "        clip = mp.ImageClip(image_paths[i]).set_duration(frame_duration)\n",
    "        image_clips.append(clip)\n",
    "\n",
    "    # Concatenate image clips to form the final video clip\n",
    "    video_clip = mp.concatenate_videoclips(image_clips, method=\"compose\")\n",
    "\n",
    "    # Add audio segments to the video clip\n",
    "    final_audio = mp.concatenate_audioclips([mp.AudioFileClip(BytesIO(segment.export(format=\"mp3\").read()), fps=segment.frame_rate) for segment in audio_segments])\n",
    "    final_clip = video_clip.set_audio(final_audio)\n",
    "\n",
    "    # Write final video to file\n",
    "    final_clip.write_videofile(videoFileName, codec=\"libx264\")\n",
    "\n",
    "\n",
    "\n",
    "    speak.Speak(\"Ok, done\")    \n",
    "    createMediaSlide (prs, output_pptx, response_txt, videoFileName, response_revised_prompt, slideLayout)\n",
    "    slideLayout=slideLayout+1\n",
    "    if slideLayout > 4:\n",
    "        slideLayout = 1\n",
    "\n",
    "    return user_input, ImagesCounter, slideLayout, response_txt, image_path, response_revised_prompt"
   ]
  },
  {
   "cell_type": "code",
   "execution_count": null,
   "id": "fd9070bf",
   "metadata": {},
   "outputs": [],
   "source": [
    "tts = gTTS(\"Hello, this is me tired and want to finish in a few minutes pelase\", lang='en')\n",
    "audioFileName = \"Test1.mp3\"\n",
    "tts.save(audioFileName)"
   ]
  },
  {
   "cell_type": "code",
   "execution_count": null,
   "id": "55259c3d",
   "metadata": {},
   "outputs": [],
   "source": [
    "pydub.utils.get_prober_name = lambda: \"/absolute/path/to/ffprobe\""
   ]
  },
  {
   "cell_type": "code",
   "execution_count": null,
   "id": "a105a7c8",
   "metadata": {},
   "outputs": [],
   "source": [
    "audio_fp = BytesIO()\n",
    "tts.write_to_fp(audio_fp)\n",
    "audio_fp.seek(0)\n",
    "audio = AudioSegment.from_mp3(audioFileName)"
   ]
  },
  {
   "cell_type": "code",
   "execution_count": null,
   "id": "ce20177d",
   "metadata": {},
   "outputs": [],
   "source": []
  }
 ],
 "metadata": {
  "kernelspec": {
   "display_name": "Python 3.8.9",
   "language": "python",
   "name": "py389"
  },
  "language_info": {
   "codemirror_mode": {
    "name": "ipython",
    "version": 3
   },
   "file_extension": ".py",
   "mimetype": "text/x-python",
   "name": "python",
   "nbconvert_exporter": "python",
   "pygments_lexer": "ipython3",
   "version": "3.8.9"
  }
 },
 "nbformat": 4,
 "nbformat_minor": 5
}
