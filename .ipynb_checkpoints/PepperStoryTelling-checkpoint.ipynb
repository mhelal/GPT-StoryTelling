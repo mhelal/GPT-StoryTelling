{
 "cells": [
  {
   "cell_type": "code",
   "execution_count": 1,
   "id": "8a8763de",
   "metadata": {},
   "outputs": [
    {
     "name": "stdout",
     "output_type": "stream",
     "text": [
      "hello\n"
     ]
    }
   ],
   "source": [
    "print \"hello\""
   ]
  },
  {
   "cell_type": "code",
   "execution_count": 2,
   "id": "98ecd39b",
   "metadata": {},
   "outputs": [
    {
     "name": "stdout",
     "output_type": "stream",
     "text": [
      "\n",
      "C:\\Python27\\Lib\\naoqi\\lib\n",
      "C:\\Windows\\SYSTEM32\\python27.zip\n",
      "C:\\Python27\\DLLs\n",
      "C:\\Python27\\lib\n",
      "C:\\Python27\\lib\\plat-win\n",
      "C:\\Python27\\lib\\lib-tk\n",
      "C:\\Python27\n",
      "C:\\Python27\\lib\\site-packages\n",
      "C:\\Python27\\lib\\site-packages\\opencv-4.5.4-py2.7.egg\n",
      "C:\\Python27\\lib\\site-packages\\win32\n",
      "C:\\Python27\\lib\\site-packages\\win32\\lib\n",
      "C:\\Python27\\lib\\site-packages\\Pythonwin\n",
      "C:\\Python27\\lib\\site-packages\\IPython\\extensions\n",
      "C:\\Users\\manal\\.ipython\n"
     ]
    }
   ],
   "source": [
    "import sys\n",
    "print \"\\n\".join(sys.path)"
   ]
  },
  {
   "cell_type": "code",
   "execution_count": 3,
   "id": "9c0280f2",
   "metadata": {},
   "outputs": [],
   "source": [
    "import os\n",
    "import sys\n",
    "\n",
    "sys.path.append( 'C:\\\\Python27\\\\Lib\\\\naoqi\\\\lib' )\n"
   ]
  },
  {
   "cell_type": "code",
   "execution_count": 4,
   "id": "d0c82c00",
   "metadata": {},
   "outputs": [],
   "source": [
    "import qi"
   ]
  },
  {
   "cell_type": "code",
   "execution_count": 5,
   "id": "27d753d7",
   "metadata": {},
   "outputs": [],
   "source": [
    "# Filename: pepper_interact.py (Python 2)\n",
    "\n",
    "import os\n",
    "import time\n",
    "from naoqi import ALProxy\n",
    "\n",
    "#IP = \"10.0.1.40\" # robot router\n",
    "IP = \"10.0.1.153\" # when pepper is connected wired to the router\n",
    "#IP = \"10.2.233.93\" #  herts.ac.uk\n",
    "#IP = \"172.20.10.2\" # My hotspot\n",
    "\n",
    "port=\"9559\"\n",
    "connection_url = \"tcp://\"+IP+\":9559\"\n",
    "\n",
    "portInt = 9559\n",
    "PepperHost = IP\n",
    "\n",
    "# Initialize Pepper\n",
    "tts = ALProxy(\"ALTextToSpeech\", IP, 9559)\n",
    "\n",
    "tts.setLanguage(\"English\")\n"
   ]
  },
  {
   "cell_type": "code",
   "execution_count": 6,
   "id": "ff96dab0",
   "metadata": {},
   "outputs": [],
   "source": [
    "import qi\n",
    "import argparse\n",
    "import sys\n",
    "import os\n",
    "import time\n",
    "\n",
    "class TTSModule(object):\n",
    "    def __init__(self, app, qilog):\n",
    "        super(TTSModule, self).__init__()\n",
    "        app.start()\n",
    "        session = app.session\n",
    "        \n",
    "        self.qilog = qilog\n",
    "        session.waitForService(\"ALRobotPosture\")\n",
    "        session.waitForService(\"ALAnimatedSpeech\")\n",
    "        self.posture = session.service(\"ALRobotPosture\")\n",
    "        self.speech = session.service(\"ALAnimatedSpeech\")\n",
    "        \n",
    "    def run(self, text):\n",
    "        try:\n",
    "            if text is None:\n",
    "                while True:\n",
    "                    qilog.info(\"Waiting for input...\")\n",
    "                    sys.stdout.write(\"> \")\n",
    "                    tts = sys.stdin.readline()\n",
    "                    qilog.info(\"Uttering '%s'...\" % tts.rstrip(\"\\n\\r\"))\n",
    "                    self.speech.say(tts)\n",
    "                    self.posture.goToPosture(\"Stand\", 0.8)\n",
    "            else:\n",
    "                qilog.info(\"Uttering '%s'...\" % text)\n",
    "                self.speech.say(text)\n",
    "                qilog.info(\"Finished.\")\n",
    "        except KeyboardInterrupt:\n",
    "            print \"Interrupted by user, stopping gracefully.\"\n",
    "        except Exception, e:\n",
    "            qilog.error(\"Error was \" + str(e))\n",
    "\n",
    "\n",
    "#if __name__ == \"__main__\":\n",
    "#    parser = argparse.ArgumentParser()\n",
    "#    parser.add_argument(\"--pip\", type=str, default=os.environ.get('ROBOT_HOST', 'pepper1-2'),\n",
    "#                      help=\"Robot IP address. On robot or Local Naoqi: use '127.0.0.1'.\")\n",
    "#    parser.add_argument(\"--pport\", type=int, default=9559,\n",
    "#                      help=\"Naoqi port number\")\n",
    "#    parser.add_argument(\"--text\", type=str,\n",
    "#                      help=\"Text to say (will exit after uttering if specified)\")\n",
    "    \n",
    "#    args = parser.parse_args()\n",
    "session = qi.Session()\n",
    "qilog = qi.logging.Logger(\"robothouse.tts\")\n",
    "try:\n",
    "    qilog.info(\"Connecting to  \\\"\" + IP + \":\" + str(port) + \"\\\"...\")\n",
    "    #connection_url = \"tcp://\" + args.pip + \":\" + str(args.pport)\n",
    "    app = qi.Application([\"TTS\", \"--qi-url=\" + connection_url])\n",
    "    qilog.info(\"Connected.\")\n",
    "except RuntimeError:\n",
    "    print (\"Can't connect to Naoqi at ip \\\"\" + IP + \"\\\" on port \" + str(port) +\".\\n\"\n",
    "          \"Please check your script arguments. Run with -h option for help.\")\n",
    "    qilog.error(\"Can't connect to  \\\"\" + IP + \":\" + str(port) + \"\\\"\")\n",
    "    #sys.exit(1)\n",
    "\n",
    "tts = TTSModule(app, qilog)\n"
   ]
  },
  {
   "cell_type": "code",
   "execution_count": 7,
   "id": "bd4c3cfb",
   "metadata": {},
   "outputs": [],
   "source": [
    "tts.run(\"Hello, world!\")"
   ]
  },
  {
   "cell_type": "code",
   "execution_count": 8,
   "id": "e6ca17ad",
   "metadata": {},
   "outputs": [],
   "source": [
    "tab_pic = ALProxy(\"ALTabletService\", IP, 9559)\n"
   ]
  },
  {
   "cell_type": "code",
   "execution_count": 9,
   "id": "4c05955e",
   "metadata": {},
   "outputs": [],
   "source": [
    "tab_pic.session = session"
   ]
  },
  {
   "cell_type": "code",
   "execution_count": 10,
   "id": "8a040c35",
   "metadata": {},
   "outputs": [],
   "source": [
    "# Ensure that the tablet wifi is enable\n",
    "tab_pic.enableWifi()\n"
   ]
  },
  {
   "cell_type": "code",
   "execution_count": 11,
   "id": "9d4f914a",
   "metadata": {},
   "outputs": [
    {
     "data": {
      "text/plain": [
       "False"
      ]
     },
     "execution_count": 11,
     "metadata": {},
     "output_type": "execute_result"
    }
   ],
   "source": [
    "picURL = 'http://www.manalhelal.com/files_uh/UKRob/image_1_124_P4.png'\n",
    "\n",
    "#tab_pic.showImage(\"image_11_5_P10.png\") # replace with an image uploaded to pepper\n",
    "tab_pic.loadUrl(picURL)\n"
   ]
  },
  {
   "cell_type": "code",
   "execution_count": 12,
   "id": "13b31674",
   "metadata": {},
   "outputs": [
    {
     "data": {
      "text/plain": [
       "False"
      ]
     },
     "execution_count": 12,
     "metadata": {},
     "output_type": "execute_result"
    }
   ],
   "source": [
    "tab_pic.showWebview(picURL) # this works on router network and online generated url, not the local one.\n"
   ]
  },
  {
   "cell_type": "code",
   "execution_count": 13,
   "id": "38cf0594",
   "metadata": {},
   "outputs": [],
   "source": [
    "def showImage(app, picURL):\n",
    "    \"\"\"\n",
    "    This example uses the showImage method.\n",
    "    To Test ALTabletService, you need to run the script ON the robot.\n",
    "    \"\"\"\n",
    "    # Get the service ALTabletService.\n",
    "    session = app.session\n",
    "    try:\n",
    "        tabletService = session.service(\"ALTabletService\")\n",
    "\n",
    "        # Display a local image located in img folder in the root of the web server\n",
    "        # The ip of the robot from the tablet is 198.18.0.1\n",
    "        tabletService.enableWifi()\n",
    "        tabletService.loadUrl(picURL)\n",
    "        tabletService.showWebview(picURL)\n",
    "\n",
    "        #time.sleep(3)\n",
    "\n",
    "        # Hide the web view\n",
    "        tabletService.hideImage()\n",
    "    except Exception, e:\n",
    "        print \"Error was: \", e"
   ]
  },
  {
   "cell_type": "code",
   "execution_count": 14,
   "id": "9dbfae46",
   "metadata": {},
   "outputs": [],
   "source": [
    "picURL = 'http://www.manalhelal.com/files_uh/UKRob/image_1_124_P4.png'\n",
    "showImage(app, picURL)"
   ]
  },
  {
   "cell_type": "code",
   "execution_count": 1,
   "id": "4a76bd86",
   "metadata": {},
   "outputs": [],
   "source": [
    "# Check if directory exists (in current location)\n",
    "def cdTree(ftp, currentDir):\n",
    "    if currentDir != \"\":\n",
    "        try:\n",
    "            ftp.cwd(currentDir)\n",
    "            return True\n",
    "        #except IOError:\n",
    "        except :\n",
    "            try:\n",
    "                #cdTree(ftp, \"/\".join(currentDir.split(\"/\")[:-1]))\n",
    "                ftp.mkd(currentDir)\n",
    "                ftp.cwd(currentDir)\n",
    "                return True\n",
    "            except:\n",
    "                return False\n",
    "def sendFile (ftp, filename, content):\n",
    "    # write to local file the new content\n",
    "    fhandle = open(filename, \"w\")\n",
    "    fhandle.write(content)\n",
    "    fhandle.close()\n",
    "    # sent to ftp\n",
    "\n",
    "\n",
    "\n",
    "    # local file name you want to upload\n",
    "    #filename = \"some_file.txt\"\n",
    "    with open(filename, \"rb\") as f:\n",
    "        # use FTP's STOR command to upload the file\n",
    "        ftp.storbinary(\"STOR %s\" %filename, f)\n",
    "\n",
    "    # list current files &amp; directories\n",
    "    ftp.dir()\n",
    "\n",
    "def sendImage (ftp, filename):\n",
    "    # local file name you want to upload\n",
    "    #filename = \"some_file.txt\"\n",
    "    with open(filename, \"rb\") as f:\n",
    "        # use FTP's STOR command to upload the file\n",
    "        ftp.storbinary(\"STOR %s\" %filename, f)\n",
    "\n",
    "    # list current files &amp; directories\n",
    "    ftp.dir()\n",
    "def retrieveFile (ftp, filename):\n",
    "    \n",
    "    with open(filename, \"wb\") as f:\n",
    "        # use FTP's RETR command to download the file\n",
    "        ftp.retrbinary(\"RETR %s\" %filename, f.write)\n",
    "    with open(filename) as f:\n",
    "        s = f.read()\n",
    "        return s"
   ]
  },
  {
   "cell_type": "code",
   "execution_count": 38,
   "id": "acde4ba7",
   "metadata": {},
   "outputs": [
    {
     "name": "stdout",
     "output_type": "stream",
     "text": [
      "True\n"
     ]
    }
   ],
   "source": [
    "import ftplib\n",
    "session = ftplib.FTP('manalhelal.com','manalorama','Manal1974*')\n",
    "#session.cwd('MANALHELAL.COM/public/files_uh/UKRob')\n",
    "remotepath = 'MANALHELAL.COM/public/files_uh/UKRob'\n",
    "print(cdTree (session, remotepath))\n",
    "session.encoding = \"utf-8\""
   ]
  },
  {
   "cell_type": "code",
   "execution_count": 39,
   "id": "1c045a16",
   "metadata": {},
   "outputs": [
    {
     "name": "stdout",
     "output_type": "stream",
     "text": [
      "True\n"
     ]
    }
   ],
   "source": [
    "# create new remote directory in the current remote path\n",
    "#http://www.manalhelal.com/files_uh/UKRob/group_1/\n",
    "remotepath = 'group_9_j3jjDNESR8yoAMCD7oEiDD'\n",
    "print(cdTree (session, remotepath))"
   ]
  },
  {
   "cell_type": "code",
   "execution_count": 40,
   "id": "a3931c83",
   "metadata": {},
   "outputs": [
    {
     "name": "stdout",
     "output_type": "stream",
     "text": [
      "drwxr-xr-x   2 manalorama pg1675152       88 Jun 17 14:52 0\n",
      "drwxr-xr-x   2 manalorama pg1675152       10 Jun 17 14:53 1\n"
     ]
    }
   ],
   "source": [
    "session.dir()"
   ]
  },
  {
   "cell_type": "code",
   "execution_count": 41,
   "id": "2435b3b1",
   "metadata": {},
   "outputs": [],
   "source": [
    "def getRemoteFiles_t (session):\n",
    "    files = []\n",
    "\n",
    "    try:\n",
    "        session.dir('-t',files.append)\n",
    "        newFiles = []\n",
    "        for f in files:\n",
    "            #print (f, i)\n",
    "            tokens= f.split()\n",
    "            print (tokens)\n",
    "            newFiles.append (tokens[-1])\n",
    "        return newFiles\n",
    "    except:\n",
    "        return None"
   ]
  },
  {
   "cell_type": "code",
   "execution_count": 42,
   "id": "d37f448d",
   "metadata": {},
   "outputs": [
    {
     "name": "stdout",
     "output_type": "stream",
     "text": [
      "['drwxr-xr-x', '2', 'manalorama', 'pg1675152', '10', 'Jun', '17', '14:53', '1']\n",
      "['drwxr-xr-x', '2', 'manalorama', 'pg1675152', '88', 'Jun', '17', '14:52', '0']\n"
     ]
    },
    {
     "data": {
      "text/plain": [
       "['1', '0']"
      ]
     },
     "execution_count": 42,
     "metadata": {},
     "output_type": "execute_result"
    }
   ],
   "source": [
    "files = getRemoteFiles_t (session)\n",
    "files"
   ]
  },
  {
   "cell_type": "code",
   "execution_count": 43,
   "id": "6d7c4fd5",
   "metadata": {},
   "outputs": [],
   "source": [
    "import os\n",
    "\n",
    "def PepperProcessfiles (counter):\n",
    "    if counter >= 0:\n",
    "        print(cdTree (session, str(counter)))\n",
    "    files = getRemoteFiles_t (session)\n",
    "    if len(files) > 0:\n",
    "        i=0\n",
    "        f = files[0]\n",
    "        slideNum = \"\"\n",
    "        for j in range (len(f)):\n",
    "            if f[j].isdigit():\n",
    "                slideNum = slideNum + f[j]\n",
    "\n",
    "        slideNum = int(slideNum)\n",
    "        print (f, slideNum)\n",
    "            \n",
    "        if counter < 0:\n",
    "            ImageNum = 0\n",
    "        else:\n",
    "            ImageNum = counter\n",
    "        if f.endswith('.png'):\n",
    "            picURL = 'http://www.manalhelal.com/files_uh/UKRob/'+remotepath+\"/\"+str(ImageNum)+\"/\"+f\n",
    "            #tab_pic.showImage(\"image_11_5_P10.png\") # replace with an image uploaded to pepper\n",
    "            #tab_pic.loadUrl(picURL)\n",
    "            print (picURL)        \n",
    "        genTextFile = \"genText_\"+str(slideNum)+\".txt\"\n",
    "        genImageText = \"genImageText_\"+str(slideNum)+\".txt\"\n",
    "        genImageName = \"image_\"+str(slideNum)+\".png\"\n",
    "            \n",
    "        if (i+1<len(files)):\n",
    "            f2 = files[i+1]\n",
    "            print (f2)\n",
    "            if f2.endswith('.txt'):\n",
    "                text = retrieveFile (session, f2)\n",
    "                #tts.run(text)\n",
    "                print (text) \n",
    "\n",
    "        if (i+2<len(files)):\n",
    "            f3 = files[i+2]\n",
    "            print (f3)\n",
    "            if f3.endswith('.txt'):\n",
    "                text = retrieveFile (session, f3)\n",
    "                #tts.run(text)\n",
    "                print (text) \n",
    "    if counter >= 0:\n",
    "        print(cdTree (session, \"../\"))\n"
   ]
  },
  {
   "cell_type": "code",
   "execution_count": 44,
   "id": "f4100d02",
   "metadata": {},
   "outputs": [
    {
     "name": "stdout",
     "output_type": "stream",
     "text": [
      "['drwxr-xr-x', '2', 'manalorama', 'pg1675152', '10', 'Jun', '17', '14:53', '1']\n",
      "['drwxr-xr-x', '2', 'manalorama', 'pg1675152', '88', 'Jun', '17', '14:52', '0']\n",
      "('1', 1)\n",
      "0\n"
     ]
    }
   ],
   "source": [
    "PepperProcessfiles(-1)"
   ]
  },
  {
   "cell_type": "code",
   "execution_count": 47,
   "id": "90122233",
   "metadata": {},
   "outputs": [
    {
     "name": "stdout",
     "output_type": "stream",
     "text": [
      "True\n",
      "['-rw-r--r--', '1', 'manalorama', 'pg1675152', '3162696', 'Jun', '17', '14:52', 'image_0.png']\n",
      "['-rw-r--r--', '1', 'manalorama', 'pg1675152', '522', 'Jun', '17', '14:52', 'genImageText_0.txt']\n",
      "['-rw-r--r--', '1', 'manalorama', 'pg1675152', '334', 'Jun', '17', '14:52', 'genText_0.txt']\n",
      "('image_0.png', 0)\n",
      "http://www.manalhelal.com/files_uh/UKRob/group_9_j3jjDNESR8yoAMCD7oEiDD/0/image_0.png\n",
      "genImageText_0.txt\n",
      "Create an illustrated page from a children's story book. Show two sisters, Zana, an 8-years old, and Hannah, a 5-year-old, standing together in colourful superhero attire, their unique emblems proudly displayed. They are curious with bright eyes, open to learning and adventures. On the page include a cleverly designed gadget that represents generative AI, which should be kid-friendly and interesting. The setting is their bedroom which is filled with books and toys, symbolizing a nurturing and educational environment.\n",
      "genText_0.txt\n",
      "Zana and Hannah can start using generative AI in small steps like helping with homework or learning new things. Encourage them to ask questions and explore how AI can assist them. It's important to monitor their usage and guide them on using AI ethically and effectively. Gradually introduce more complex tasks to expand their skills.\n",
      "True\n"
     ]
    }
   ],
   "source": [
    "i=0\n",
    "PepperProcessfiles(i)"
   ]
  },
  {
   "cell_type": "code",
   "execution_count": 51,
   "id": "0558892e",
   "metadata": {},
   "outputs": [
    {
     "name": "stdout",
     "output_type": "stream",
     "text": [
      "True\n",
      "['-rw-r--r--', '1', 'manalorama', 'pg1675152', '3162696', 'Jun', '17', '14:53', 'image_1.png']\n",
      "['-rw-r--r--', '1', 'manalorama', 'pg1675152', '597', 'Jun', '17', '14:53', 'genImageText_1.txt']\n",
      "['-rw-r--r--', '1', 'manalorama', 'pg1675152', '648', 'Jun', '17', '14:53', 'genText_1.txt']\n",
      "('image_1.png', 1)\n",
      "http://www.manalhelal.com/files_uh/UKRob/group_9_j3jjDNESR8yoAMCD7oEiDD/1/image_1.png\n",
      "genImageText_1.txt\n",
      "A children's book illustration is required. The scene in focus is Xena, a young girl exhibiting her graceful karate moves. This needs to be detailed, showcasing jumps, turns, and strikes. Another character needed is Hannah, a girl of the same age, eager to explore new sports. Display a series of different sports around her; like swimming, basketball, and dance, to suggest her interest in picking up a new sport. Both girls are getting assistance from a gentle generative AI helper, shown as a friendly holographic figure offering advice. The output needs to spark curiosity and love for sports.\n",
      "genText_1.txt\n",
      "In the early morning, the superhero uses generative AI to plan a healthy breakfast, go to school, engage with teachers and colleagues, and study. The superhero also advises their family on leisure activities. The superhero is interested in studying history and using generative AI to learn efficiently. As the superhero advances in education, they explore ancient civilizations and comparative history studies. Finally, the superhero transitions to university, focusing on geography studies with the help of generative AI. From primary school to a PhD program, generative AI proves to be a valuable tool for learning and research for the superhero.\n",
      "True\n"
     ]
    }
   ],
   "source": [
    "i=i+1\n",
    "PepperProcessfiles(i)"
   ]
  },
  {
   "cell_type": "code",
   "execution_count": 50,
   "id": "6e5dd414",
   "metadata": {},
   "outputs": [],
   "source": [
    "i=0"
   ]
  },
  {
   "cell_type": "code",
   "execution_count": 99,
   "id": "e3524208",
   "metadata": {},
   "outputs": [
    {
     "data": {
      "text/plain": [
       "'Hello World\\n'"
      ]
     },
     "execution_count": 99,
     "metadata": {},
     "output_type": "execute_result"
    }
   ],
   "source": [
    "\n",
    "tts.run(retrieveFile(session, \"genText_1.txt\"))"
   ]
  },
  {
   "cell_type": "code",
   "execution_count": null,
   "id": "1090f887",
   "metadata": {},
   "outputs": [],
   "source": [
    "session.pwd()"
   ]
  },
  {
   "cell_type": "code",
   "execution_count": 66,
   "id": "b651347b",
   "metadata": {},
   "outputs": [],
   "source": [
    "url = 'http://www.manalhelal.com/files_uh/UKRob/'\n",
    "picURL =url+remotepath"
   ]
  },
  {
   "cell_type": "code",
   "execution_count": 67,
   "id": "a8cb93a2",
   "metadata": {},
   "outputs": [
    {
     "data": {
      "text/plain": [
       "'group_1_VmNVktUkad34dcBKX5RWrM'"
      ]
     },
     "execution_count": 67,
     "metadata": {},
     "output_type": "execute_result"
    }
   ],
   "source": [
    "remotepath"
   ]
  },
  {
   "cell_type": "code",
   "execution_count": null,
   "id": "fd1d37a3",
   "metadata": {},
   "outputs": [],
   "source": [
    "\n"
   ]
  },
  {
   "cell_type": "code",
   "execution_count": 23,
   "id": "263c52ec",
   "metadata": {},
   "outputs": [],
   "source": [
    "def PepperProcessfiles (files, newfiles):\n",
    "    for f in newfiles:\n",
    "        if f not in files:\n",
    "\n",
    "            slideNum = \"\"\n",
    "            for i in range (len(f)):\n",
    "                if f[i].isdigit():\n",
    "                    slideNum = slideNum + f[i]\n",
    "\n",
    "            slideNum = int(slideNum)\n",
    "\n",
    "            if f.endswith('.txt'):\n",
    "                text = retrieveFile (session, f)\n",
    "                tts.run(text)\n",
    "            else:\n",
    "                picURL = 'http://www.manalhelal.com/files_uh/UKRob/'+remotepath+\"/\"+f\n",
    "\n",
    "                #tab_pic.showImage(\"image_11_5_P10.png\") # replace with an image uploaded to pepper\n",
    "                tab_pic.loadUrl(picURL)"
   ]
  },
  {
   "cell_type": "code",
   "execution_count": 32,
   "id": "283c5177",
   "metadata": {},
   "outputs": [],
   "source": [
    "def PepperProcessfiles (files, newfiles):\n",
    "    i = 0\n",
    "    while i < len(newfiles):\n",
    "        f = newfiles[i]\n",
    "        if f not in files:\n",
    "            slideNum = \"\"\n",
    "            for j in range (len(f)):\n",
    "                if f[j].isdigit():\n",
    "                    slideNum = slideNum + f[j]\n",
    "\n",
    "            slideNum = int(slideNum)\n",
    "            print (f, slideNum)\n",
    "            \n",
    "            \n",
    "            if f.endswith('.png'):\n",
    "                picURL = 'http://www.manalhelal.com/files_uh/UKRob/'+remotepath+\"/\"+f\n",
    "                #tab_pic.showImage(\"image_11_5_P10.png\") # replace with an image uploaded to pepper\n",
    "                tab_pic.loadUrl(picURL)\n",
    "                    \n",
    "            genTextFile = \"genText_\"+str(slideNum)+\".txt\"\n",
    "            genImageText = \"genImageText_\"+str(slideNum)+\".txt\"\n",
    "            genImageName = \"image_\"+str(slideNum)+\".png\"\n",
    "            \n",
    "            \n",
    "\n",
    "            if (i+1<len(newfiles)):\n",
    "                f2 = newfiles[i+1]\n",
    "                print (f2)\n",
    "                if f2.endswith('.txt'):\n",
    "                    text = retrieveFile (session, f2)\n",
    "                    tts.run(text)\n",
    "                \n",
    "            if (i+2<len(newfiles)):\n",
    "                f3 = newfiles[i+2]\n",
    "                print (f3)\n",
    "                if f3.endswith('.txt'):\n",
    "                    text = retrieveFile (session, f3)\n",
    "                    tts.run(text)\n",
    "        i = i+3"
   ]
  },
  {
   "cell_type": "code",
   "execution_count": 33,
   "id": "cde1a137",
   "metadata": {},
   "outputs": [
    {
     "name": "stdout",
     "output_type": "stream",
     "text": [
      "('image_0.png', 0)\n",
      "genImageText_0.txt\n",
      "genText_0.txt\n"
     ]
    }
   ],
   "source": [
    "#files = getRemoteFiles_t (session)\n",
    "PepperProcessfiles ([], files)\n"
   ]
  },
  {
   "cell_type": "code",
   "execution_count": 34,
   "id": "8b912412",
   "metadata": {},
   "outputs": [
    {
     "name": "stdout",
     "output_type": "stream",
     "text": [
      "['-rw-r--r--', '1', 'manalorama', 'pg1675152', '3162696', 'Jun', '17', '08:29', 'image_0.png']\n",
      "['-rw-r--r--', '1', 'manalorama', 'pg1675152', '528', 'Jun', '17', '08:28', 'genImageText_0.txt']\n",
      "['-rw-r--r--', '1', 'manalorama', 'pg1675152', '363', 'Jun', '17', '08:28', 'genText_0.txt']\n"
     ]
    }
   ],
   "source": [
    "newfiles = getRemoteFiles_t (session)\n",
    "PepperProcessfiles (files, newfiles)"
   ]
  },
  {
   "cell_type": "code",
   "execution_count": null,
   "id": "2eb20037",
   "metadata": {},
   "outputs": [],
   "source": []
  },
  {
   "cell_type": "code",
   "execution_count": null,
   "id": "5b35235c",
   "metadata": {},
   "outputs": [],
   "source": []
  },
  {
   "cell_type": "code",
   "execution_count": 15,
   "id": "624f90fa",
   "metadata": {},
   "outputs": [],
   "source": [
    "with open('pres.txt') as f:\n",
    "    lines = [line.rstrip('\\n') for line in f]"
   ]
  },
  {
   "cell_type": "code",
   "execution_count": 16,
   "id": "2c88063d",
   "metadata": {},
   "outputs": [
    {
     "name": "stdout",
     "output_type": "stream",
     "text": [
      "Hello\n",
      "\n",
      "I hope you enjoyed your activity and generated good stories. \n",
      "\n",
      "Please ensure you filled out your Questionnaires at the start and end of this activity.\n",
      "\n",
      "Let's now try to learn how AI generated these stories for you.\n",
      "\n",
      "We need to learn the limitations of AI and how to use it ethically and efficiently.\n",
      "\n",
      "Neural Networks are so simple that they can be explained to babies, as done in this book by Chris Ferrie and Dr Sarah Kaiser\n",
      "\n",
      "Let's see some pages from this book:\n",
      "\n",
      "Your eye (sensor) passes to the brain what you see. This activates a neuron.\n",
      "\n",
      "For example, when you see a red ball, your eye is activated, and this ball is passed as input to other neurons.\n",
      "\n",
      "Every neuron tries to understand and keep activating other neurons (maybe a memory of other images you saw before) to learn the image's description.\n",
      "\n",
      "One neuron can be activated by one input or more. The neuron outputs one or more outputs to activate another one more neuron. Maybe you saw a lion and must activate your legs to escape.\n",
      "\n",
      "Trying to understand what you saw; your neurons divide any scene into partitions and label each.\n",
      "\n",
      "All labels/descriptions of the scene partitions in one neuron decide its one or more outputs.\n",
      "\n",
      "Your brain decides the scene contents by weighing these inputs and outputs with your prior knowledge.\n",
      "\n",
      "The answer from one neuron is sent to another neuron or more.\n",
      "\n",
      "Many neurons talk to many neurons in your body to see, move, talk, learn and everything. \n",
      "\n",
      "From 2013, Artificial Neural Networks (ANN) now remember people's faces and label them with their names, as well as many animals and objects around us.\n",
      "\n",
      "\n",
      "Computers are now trained on so many human faces that they can generate new faces that do not exist around us.\n",
      "\n",
      "In 2016, computers learned how to play games, won against the Human World Champion, and improved in many games and tasks.\n",
      "\n",
      "People can wear devices to see and remember things and, similarly, to hear from different devices that assist them in knowing the labels and making decisions.\n",
      "\n",
      "Computers learn so much text written in many books and on the internet that they can generate new conversations with humans like humans can together.\n",
      "\n",
      "Many Jobs done by humans are now done by robots, particularly in manufacturing, farming, logistics and delivery\n",
      "\n",
      "Now, large language models can use AI to make from 47 per cent to 56 per cent of all Job tasks finish faster. \n",
      "\n",
      "As you see in this chart, some subject exams can be better solved by AI than humans, like those on the left-hand side, such as Environmental science, History, Psychology, and even Biology,  \n",
      "\n",
      "Some areas are not that easy for AI, such as math, statistics, calculus, and programming. \n",
      "\n",
      "The jobs that are highly impacted by AI and will require fewer people to work, and maybe with lower salaries, are estimated to be Communications Managers as we can tell our phones to send messages for us, \n",
      "\n",
      "Data Collector / Entry, as these tasks are automated now,\n",
      "\n",
      "The Chief Executive Officer (CEO) job can be our digital assistant, \n",
      "\n",
      "Therapists, as we can talk and receive feedback from AI, and AI can advise when we need to see an expert therapist for further help, \n",
      "\n",
      "Delivery Driver as unmanned vehicles are now doing very well, \n",
      "\n",
      "Typing is now an ancient job as we can speak to our computers and it types for us.  \n",
      "\n",
      "The jobs that are not impacted that much or may not yet are where higher education in science or talent is required, such as postdocs, professors, nurses, technicians, teachers and caregivers, singers and stylists, and historians and geographers.\n",
      "\n",
      "It is estimated that 65% of your generation jobs will be new and not yet created. \n",
      "The major ethical and legal concerns in using generative AI revolve around issues such as:\n",
      "\n",
      "1      Misinformation and Fake Content              Generative AI can be used to create fake news, images, and videos that can mislead people and spread misinformation.\n",
      "\n",
      "2      Privacy and Data Protection            Generating AI may require large datasets, raising concerns about data privacy and consent, especially when using personal data.\n",
      "\n",
      "3     Bias and Discrimination        If the training data used is biased, generative AI can produce discriminatory outputs, perpetuating existing societal biases.\n",
      "\n",
      "4     Intellectual Property                 There are challenges in determining ownership rights to AI-generated content and the potential infringement of existing copyrights.\n",
      "\n",
      "5      Security and Malicious Use               Generative AI can be exploited for malicious purposes like creating deepfake videos for fraud or cyberattacks.\n",
      "\n",
      "6        Regulation and Accountability            There is a need for regulations to govern the use of generative AI and to hold individuals and organizations accountable for its ethical and legal implications.\n",
      "\n",
      "We can observe that Simple Tasks and exams that require memorising lots of details are better done by AI and Robots. \n",
      "\n",
      "Complex tasks or human support tasks (teaching, scholarly and spiritual) are not impacted by AI in jobs, and calculus and reasoning exams are not passed easily by AI and need human intelligence. \n",
      "\n",
      "Thank you, we hope you enjoyed the day. Please fill out the questionnaires,\n",
      "\n",
      "Manal Helal\n",
      "and\n",
      "Luke Wood\n"
     ]
    }
   ],
   "source": [
    "for l in lines:\n",
    "    tts.run(l)\n",
    "    print (l)"
   ]
  },
  {
   "cell_type": "code",
   "execution_count": null,
   "id": "98d3441f",
   "metadata": {},
   "outputs": [],
   "source": []
  }
 ],
 "metadata": {
  "kernelspec": {
   "display_name": "Python 2.7.18",
   "language": "python",
   "name": "py27"
  },
  "language_info": {
   "codemirror_mode": {
    "name": "ipython",
    "version": 2
   },
   "file_extension": ".py",
   "mimetype": "text/x-python",
   "name": "python",
   "nbconvert_exporter": "python",
   "pygments_lexer": "ipython2",
   "version": "2.7.18"
  }
 },
 "nbformat": 4,
 "nbformat_minor": 5
}
