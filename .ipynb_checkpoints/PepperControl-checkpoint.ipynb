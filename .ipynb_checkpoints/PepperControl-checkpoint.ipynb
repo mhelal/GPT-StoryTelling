{
 "cells": [
  {
   "cell_type": "code",
   "execution_count": 1,
   "id": "c963bd10",
   "metadata": {},
   "outputs": [],
   "source": [
    "IP = \"10.0.1.40\" # robot router\n",
    "#IP = \"10.0.1.153\" # when pepper is connected wired to the router\n",
    "#IP = \"10.2.233.93\" #  herts.ac.uk\n",
    "#IP = \"172.20.10.2\" # My hotspot\n",
    "port=\"9559\"\n",
    "connection_url = \"tcp://\"+IP+\":9559\"\n",
    "\n",
    "portInt = 9559\n",
    "PepperHost = IP"
   ]
  },
  {
   "cell_type": "code",
   "execution_count": 2,
   "id": "895e7d3e",
   "metadata": {},
   "outputs": [],
   "source": [
    "import os\n",
    "import sys\n",
    "\n",
    "sys.path.append('C:\\Python27\\Lib\\Pepper-Controller-main')"
   ]
  },
  {
   "cell_type": "code",
   "execution_count": 3,
   "id": "36eb877d",
   "metadata": {
    "scrolled": true
   },
   "outputs": [
    {
     "name": "stderr",
     "output_type": "stream",
     "text": [
      "C:\\Python27\\lib\\site-packages\\paramiko\\transport.py:33: CryptographyDeprecationWarning: Python 2 is no longer supported by the Python core team. Support for it is now deprecated in cryptography, and will be removed in the next release.\n",
      "  from cryptography.hazmat.backends import default_backend\n"
     ]
    },
    {
     "ename": "ImportError",
     "evalue": "DLL load failed: %1 is not a valid Win32 application.",
     "output_type": "error",
     "traceback": [
      "\u001b[1;31m---------------------------------------------------------------------------\u001b[0m",
      "\u001b[1;31mImportError\u001b[0m                               Traceback (most recent call last)",
      "\u001b[1;32m<ipython-input-3-1fff8d9e74c8>\u001b[0m in \u001b[0;36m<module>\u001b[1;34m()\u001b[0m\n\u001b[1;32m----> 1\u001b[1;33m \u001b[1;32mfrom\u001b[0m \u001b[0mpepper\u001b[0m\u001b[1;33m.\u001b[0m\u001b[0mrobot\u001b[0m \u001b[1;32mimport\u001b[0m \u001b[0mPepper\u001b[0m\u001b[1;33m\u001b[0m\u001b[0m\n\u001b[0m\u001b[0;32m      2\u001b[0m \u001b[1;33m\u001b[0m\u001b[0m\n\u001b[0;32m      3\u001b[0m \u001b[0mpepper\u001b[0m \u001b[1;33m=\u001b[0m \u001b[0mPepper\u001b[0m\u001b[1;33m(\u001b[0m\u001b[0mIP\u001b[0m\u001b[1;33m,\u001b[0m \u001b[1;36m1234\u001b[0m\u001b[1;33m)\u001b[0m\u001b[1;33m\u001b[0m\u001b[0m\n",
      "\u001b[1;32mC:\\Python27\\Lib\\Pepper-Controller-main\\pepper\\robot.py\u001b[0m in \u001b[0;36m<module>\u001b[1;34m()\u001b[0m\n\u001b[0;32m     19\u001b[0m \u001b[1;32mfrom\u001b[0m \u001b[0mnose\u001b[0m \u001b[1;32mimport\u001b[0m \u001b[0mtools\u001b[0m\u001b[1;33m\u001b[0m\u001b[0m\n\u001b[0;32m     20\u001b[0m \u001b[1;32mfrom\u001b[0m \u001b[0mscp\u001b[0m \u001b[1;32mimport\u001b[0m \u001b[0mSCPClient\u001b[0m\u001b[1;33m\u001b[0m\u001b[0m\n\u001b[1;32m---> 21\u001b[1;33m \u001b[1;32mimport\u001b[0m \u001b[0mcv2\u001b[0m\u001b[1;33m\u001b[0m\u001b[0m\n\u001b[0m\u001b[0;32m     22\u001b[0m \u001b[1;32mimport\u001b[0m \u001b[0mplaysound\u001b[0m\u001b[1;33m\u001b[0m\u001b[0m\n\u001b[0;32m     23\u001b[0m \u001b[1;32mimport\u001b[0m \u001b[0msubprocess\u001b[0m\u001b[1;33m\u001b[0m\u001b[0m\n",
      "\u001b[1;31mImportError\u001b[0m: DLL load failed: %1 is not a valid Win32 application."
     ]
    }
   ],
   "source": [
    "from pepper.robot import Pepper\n",
    "\n",
    "pepper = Pepper(IP, 1234)"
   ]
  },
  {
   "cell_type": "code",
   "execution_count": 3,
   "id": "ac0017d8",
   "metadata": {},
   "outputs": [],
   "source": [
    "import qi\n",
    "import argparse\n",
    "import sys\n",
    "import os\n",
    "import time\n",
    "\n",
    "class TTSModule(object):\n",
    "    def __init__(self, app, qilog):\n",
    "        super(TTSModule, self).__init__()\n",
    "        app.start()\n",
    "        session = app.session\n",
    "        \n",
    "        self.qilog = qilog\n",
    "        session.waitForService(\"ALRobotPosture\")\n",
    "        session.waitForService(\"ALAnimatedSpeech\")\n",
    "        self.posture = session.service(\"ALRobotPosture\")\n",
    "        self.speech = session.service(\"ALAnimatedSpeech\")\n",
    "        \n",
    "    def run(self, text):\n",
    "        try:\n",
    "            if text is None:\n",
    "                while True:\n",
    "                    qilog.info(\"Waiting for input...\")\n",
    "                    sys.stdout.write(\"> \")\n",
    "                    tts = sys.stdin.readline()\n",
    "                    qilog.info(\"Uttering '%s'...\" % tts.rstrip(\"\\n\\r\"))\n",
    "                    self.speech.say(tts)\n",
    "                    self.posture.goToPosture(\"Stand\", 0.8)\n",
    "            else:\n",
    "                qilog.info(\"Uttering '%s'...\" % text)\n",
    "                self.speech.say(text)\n",
    "                qilog.info(\"Finished.\")\n",
    "        except KeyboardInterrupt:\n",
    "            print \"Interrupted by user, stopping gracefully.\"\n",
    "        except Exception, e:\n",
    "            qilog.error(\"Error was \" + str(e))\n",
    "\n",
    "\n",
    "#if __name__ == \"__main__\":\n",
    "#    parser = argparse.ArgumentParser()\n",
    "#    parser.add_argument(\"--pip\", type=str, default=os.environ.get('ROBOT_HOST', 'pepper1-2'),\n",
    "#                      help=\"Robot IP address. On robot or Local Naoqi: use '127.0.0.1'.\")\n",
    "#    parser.add_argument(\"--pport\", type=int, default=9559,\n",
    "#                      help=\"Naoqi port number\")\n",
    "#    parser.add_argument(\"--text\", type=str,\n",
    "#                      help=\"Text to say (will exit after uttering if specified)\")\n",
    "    \n",
    "#    args = parser.parse_args()\n",
    "session = qi.Session()\n",
    "qilog = qi.logging.Logger(\"robothouse.tts\")\n",
    "try:\n",
    "    qilog.info(\"Connecting to  \\\"\" + IP + \":\" + str(port) + \"\\\"...\")\n",
    "    #connection_url = \"tcp://\" + args.pip + \":\" + str(args.pport)\n",
    "    app = qi.Application([\"TTS\", \"--qi-url=\" + connection_url])\n",
    "    qilog.info(\"Connected.\")\n",
    "except RuntimeError:\n",
    "    print (\"Can't connect to Naoqi at ip \\\"\" + IP + \"\\\" on port \" + str(port) +\".\\n\"\n",
    "          \"Please check your script arguments. Run with -h option for help.\")\n",
    "    qilog.error(\"Can't connect to  \\\"\" + IP + \":\" + str(port) + \"\\\"\")\n",
    "    #sys.exit(1)\n",
    "\n",
    "tts = TTSModule(app, qilog)\n"
   ]
  },
  {
   "cell_type": "code",
   "execution_count": 4,
   "id": "7ab048a6",
   "metadata": {},
   "outputs": [],
   "source": [
    "tts.run(\"Hello!\")"
   ]
  },
  {
   "cell_type": "code",
   "execution_count": 5,
   "id": "f41e78b5",
   "metadata": {},
   "outputs": [],
   "source": [
    "from naoqi import ALProxy\n",
    "motion = ALProxy(\"ALMotion\", IP, 9559)\n",
    "motion.setStiffnesses(\"Body\", 1.0)\n",
    "\n",
    "# Ensure Pepper is ready\n",
    "motion.setStiffnesses(\"Body\", 1.0)"
   ]
  },
  {
   "cell_type": "code",
   "execution_count": 6,
   "id": "dabb28f6",
   "metadata": {},
   "outputs": [
    {
     "data": {
      "text/plain": [
       "False"
      ]
     },
     "execution_count": 6,
     "metadata": {},
     "output_type": "execute_result"
    }
   ],
   "source": [
    "motion.moveInit()\n",
    "motion.moveTo(0.5, 0, 0)"
   ]
  },
  {
   "cell_type": "code",
   "execution_count": 7,
   "id": "d14aca83",
   "metadata": {},
   "outputs": [
    {
     "data": {
      "text/plain": [
       "True"
      ]
     },
     "execution_count": 7,
     "metadata": {},
     "output_type": "execute_result"
    }
   ],
   "source": [
    "tab_pic = ALProxy(\"ALTabletService\", IP, 9559)\n",
    "tab_pic.showImage(\"image_11_5_P10.png\") # replace with an image uploaded to pepper"
   ]
  },
  {
   "cell_type": "code",
   "execution_count": 8,
   "id": "fd0713ca",
   "metadata": {},
   "outputs": [],
   "source": [
    "picURL = 'https://oaidalleapiprodscus.blob.core.windows.net/private/org-xJYRl7aFvxKqyTpAY0qA4fDM/user-QBBpqol6ioymZdq7dRphXtjx/img-2hXJWzU9WCPFiWGRuJ2c9SAH.png?st=2024-06-12T14%3A36%3A29Z&se=2024-06-12T16%3A36%3A29Z&sp=r&sv=2023-11-03&sr=b&rscd=inline&rsct=image/png&skoid=6aaadede-4fb3-4698-a8f6-684d7786b067&sktid=a48cca56-e6da-484e-a814-9c849652bcb3&skt=2024-06-11T18%3A48%3A25Z&ske=2024-06-12T18%3A48%3A25Z&sks=b&skv=2023-11-03&sig=Kg6S2zRe/Asd235Ue%2BknAbfg6ruZ7wFpQC9DolC6KTE%3D'"
   ]
  },
  {
   "cell_type": "code",
   "execution_count": 9,
   "id": "76744435",
   "metadata": {},
   "outputs": [],
   "source": [
    "# Ensure that the tablet wifi is enable\n",
    "tab_pic.enableWifi()"
   ]
  },
  {
   "cell_type": "code",
   "execution_count": 10,
   "id": "f655ee80",
   "metadata": {},
   "outputs": [
    {
     "data": {
      "text/plain": [
       "True"
      ]
     },
     "execution_count": 10,
     "metadata": {},
     "output_type": "execute_result"
    }
   ],
   "source": [
    "tab_pic.showWebview(picURL) # this works but on the router network"
   ]
  },
  {
   "cell_type": "code",
   "execution_count": 14,
   "id": "50feec1e",
   "metadata": {},
   "outputs": [
    {
     "data": {
      "text/plain": [
       "True"
      ]
     },
     "execution_count": 14,
     "metadata": {},
     "output_type": "execute_result"
    }
   ],
   "source": [
    "tab_pic.loadUrl(picURL)"
   ]
  },
  {
   "cell_type": "code",
   "execution_count": 12,
   "id": "385c8d19",
   "metadata": {},
   "outputs": [],
   "source": [
    "import time\n",
    "\n",
    "from naoqi import ALProxy\n",
    "\n",
    "\n",
    "photoCapture = ALProxy(\"ALPhotoCapture\", IP, 9559)\n",
    "tablet = ALProxy(\"ALTabletService\", IP, 9559)\n",
    "tts = ALProxy(\"ALTextToSpeech\", IP, 9559)\n",
    "\n",
    "\n"
   ]
  },
  {
   "cell_type": "code",
   "execution_count": 13,
   "id": "9d4982da",
   "metadata": {},
   "outputs": [
    {
     "data": {
      "text/plain": [
       "'10.0.1.153'"
      ]
     },
     "execution_count": 13,
     "metadata": {},
     "output_type": "execute_result"
    }
   ],
   "source": [
    "IP"
   ]
  },
  {
   "cell_type": "code",
   "execution_count": 14,
   "id": "483fef2e",
   "metadata": {},
   "outputs": [
    {
     "data": {
      "text/plain": [
       "'198.18.0.1'"
      ]
     },
     "execution_count": 14,
     "metadata": {},
     "output_type": "execute_result"
    }
   ],
   "source": [
    "tablet.robotIp()"
   ]
  },
  {
   "cell_type": "code",
   "execution_count": null,
   "id": "e72760af",
   "metadata": {},
   "outputs": [],
   "source": [
    "def showImage3():\n",
    "    photoCapture.setResolution(2)\n",
    "    photoCapture.setPictureFormat(\"jpg\")\n",
    "    photoCapture.takePictures(1, \"/home/nao/lachlan/photo/\", \"capture\")\n",
    "    print(\"Image taken\")\n",
    "\n",
    "    # If this doesn't work try these:\n",
    "    # tablet.showImage(\"http://198.18.0.1/lachlan/photo/capture.jpg\")\n",
    "    # tablet.showImage(\"http://{}/lachlan/photo/capture.jpg\".format(IP))\n",
    "    tablet.showImage(\"/home/nao/lachlan/photo/capture.jpg\")\n",
    "    print(\"Image displayed\")\n",
    "    print(tablet.robotIp())\n",
    "    # tts.say(\"Do you like this photo I took?\")\n",
    "\n",
    "    time.sleep(5)\n",
    "\n",
    "    tablet.hideImage()\n",
    "\n",
    "\n",
    "if __name__ == '__main__':\n",
    "    main()"
   ]
  },
  {
   "cell_type": "markdown",
   "id": "585920e4",
   "metadata": {},
   "source": [
    "\n",
    "\n",
    "http://198.18.0.1/ points to the root web server directory on the robot, which is not /home/nao. You thus have probably two options:\n",
    "\n",
    "    either download the image to some remote location with its own remote URL, or\n",
    "    save in on the robot in an application directory and refer to it via http://198.18.0.1/apps/<app name>/.... This directory is located in /home/nao/.local/share/PackageManager/apps/<app name>/html/ and the directory structure is created when installing the application package (i.e. the html subdirectory should appear in the package).\n",
    "\n"
   ]
  },
  {
   "cell_type": "code",
   "execution_count": null,
   "id": "f99ebc18",
   "metadata": {},
   "outputs": [],
   "source": [
    "try:\n",
    "    tabletService = session.service(\"ALTabletService\")\n",
    "\n",
    "    # Display a local image located in img folder in the root of the web server\n",
    "    # The ip of the robot from the tablet is 198.18.0.1\n",
    "    tabletService.showImage(\"http://198.18.0.1/img/help_charger.png\")\n",
    "\n",
    "    time.sleep(3)\n",
    "\n",
    "    # Hide the web view\n",
    "    tabletService.hideImage()\n",
    "except Exception, e:\n",
    "    print \"Error was: \", e\n"
   ]
  },
  {
   "cell_type": "code",
   "execution_count": null,
   "id": "835f39ea",
   "metadata": {},
   "outputs": [],
   "source": [
    "def showImage(session, picURL):\n",
    "    \"\"\"\n",
    "    This example uses the showImage method.\n",
    "    To Test ALTabletService, you need to run the script ON the robot.\n",
    "    \"\"\"\n",
    "    # Get the service ALTabletService.\n",
    "\n",
    "    try:\n",
    "        tabletService = session.service(\"ALTabletService\")\n",
    "\n",
    "        # Display a local image located in img folder in the root of the web server\n",
    "        # The ip of the robot from the tablet is 198.18.0.1\n",
    "        tabletService.showImage(picURL)\n",
    "\n",
    "        #time.sleep(3)\n",
    "\n",
    "        # Hide the web view\n",
    "        tabletService.hideImage()\n",
    "    except Exception, e:\n",
    "        print \"Error was: \", e"
   ]
  },
  {
   "cell_type": "code",
   "execution_count": null,
   "id": "a434c88b",
   "metadata": {},
   "outputs": [],
   "source": [
    "showImage(session, picURL)"
   ]
  },
  {
   "cell_type": "code",
   "execution_count": null,
   "id": "8ca4bf04",
   "metadata": {},
   "outputs": [],
   "source": [
    "def showWebview2(session, picURL):\n",
    "    \"\"\"\n",
    "    This example uses the executeJS method.\n",
    "    To Test ALTabletService, you need to run the script ON the robot.\n",
    "    \"\"\"\n",
    "    # Get the service ALTabletService.\n",
    "    tabletService = session.service(\"ALTabletService\")\n",
    "\n",
    "    try:\n",
    "        # Display a local web page located in boot-config/html folder\n",
    "        # The ip of the robot from the tablet is 198.18.0.1\n",
    "        #tabletService.showWebview(\"http://198.18.0.1/apps/boot-config/preloading_dialog.html\")\n",
    "        tabletService.showWebview(picURL)\n",
    "\n",
    "        #time.sleep(3)\n",
    "\n",
    "        # Javascript script for displaying a prompt\n",
    "        # ALTabletBinding is a javascript binding inject in the web page displayed on the tablet\n",
    "        script = \"\"\"\n",
    "            var name = prompt(\"Please enter your name\", \"Harry Pepper\");\n",
    "            ALTabletBinding.raiseEvent(name)\n",
    "        \"\"\"\n",
    "\n",
    "        # Don't forget to disconnect the signal at the end\n",
    "        signalID = 0\n",
    "\n",
    "        # function called when the signal onJSEvent is triggered\n",
    "        # by the javascript function ALTabletBinding.raiseEvent(name)\n",
    "        def callback(event):\n",
    "            print \"your name is:\", event\n",
    "            promise.setValue(True)\n",
    "\n",
    "        promise = qi.Promise()\n",
    "\n",
    "        # attach the callback function to onJSEvent signal\n",
    "        signalID = tabletService.onJSEvent.connect(callback)\n",
    "\n",
    "        # inject and execute the javascript in the current web page displayed\n",
    "        tabletService.executeJS(script)\n",
    "\n",
    "        try:\n",
    "            promise.future().hasValue(30000)\n",
    "        except RuntimeError:\n",
    "            raise RuntimeError('Timeout: no signal triggered')\n",
    "\n",
    "    except Exception, e:\n",
    "        print \"Error was:\", e\n",
    "\n",
    "    # Hide the web view\n",
    "    tabletService.hideWebview()\n",
    "    # disconnect the signal\n",
    "    tabletService.onJSEvent.disconnect(signalID)"
   ]
  },
  {
   "cell_type": "code",
   "execution_count": null,
   "id": "07b5f601",
   "metadata": {},
   "outputs": [],
   "source": [
    "showWebview2(session, picURL)"
   ]
  },
  {
   "cell_type": "code",
   "execution_count": null,
   "id": "6605bfad",
   "metadata": {},
   "outputs": [],
   "source": [
    "def loadApplication(session):\n",
    "    \"\"\"\n",
    "    This example uses the loadApplication method.\n",
    "    To Test ALTabletService, you need to run the script ON the robot.\n",
    "    \"\"\"\n",
    "    # Get the service ALTabletService.\n",
    "\n",
    "    try:\n",
    "        tabletService = session.service(\"ALTabletService\")\n",
    "\n",
    "        # Display the index.html page of a behavior name j-tablet-browser\n",
    "        # The index.html must be in a folder html in the behavior folder\n",
    "        tabletService.loadApplication(\"j-tablet-browser\")\n",
    "        tabletService.showWebview()\n",
    "\n",
    "        #time.sleep(3)\n",
    "\n",
    "        # Hide the web view\n",
    "        tabletService.hideWebview()\n",
    "    except Exception, e:\n",
    "        print \"Error was: \", e"
   ]
  },
  {
   "cell_type": "code",
   "execution_count": null,
   "id": "132a8598",
   "metadata": {},
   "outputs": [],
   "source": [
    "loadApplication(session)"
   ]
  },
  {
   "cell_type": "code",
   "execution_count": null,
   "id": "3a1f9948",
   "metadata": {},
   "outputs": [],
   "source": [
    "def showWebview(session, picURL):\n",
    "    \"\"\"\n",
    "    This example uses the showWebview method.\n",
    "    To Test ALTabletService, you need to run the script ON the robot.\n",
    "    \"\"\"\n",
    "    # Get the service ALTabletService.\n",
    "\n",
    "    try:\n",
    "        tabletService = session.service(\"ALTabletService\")\n",
    "\n",
    "        # Ensure that the tablet wifi is enable\n",
    "        tabletService.enableWifi()\n",
    "\n",
    "        # Display a web page on the tablet\n",
    "        tabletService.showWebview(picURL)\n",
    "\n",
    "        #time.sleep(3)\n",
    "\n",
    "        # Display a local web page located in boot-config/html folder\n",
    "        # The ip of the robot from the tablet is 198.18.0.1\n",
    "        #tabletService.showWebview(\"http://198.18.0.1/apps/boot-config/preloading_dialog.html\")\n",
    "\n",
    "        #time.sleep(3)\n",
    "\n",
    "        # Hide the web view\n",
    "        #tabletService.hideWebview()\n",
    "    except Exception, e:\n",
    "        print \"Error was: \", e"
   ]
  },
  {
   "cell_type": "code",
   "execution_count": null,
   "id": "2375cf6b",
   "metadata": {},
   "outputs": [],
   "source": [
    "showWebview(session, picURL)"
   ]
  },
  {
   "cell_type": "code",
   "execution_count": null,
   "id": "431c442b",
   "metadata": {},
   "outputs": [],
   "source": [
    "def playVideo(session):\n",
    "    \"\"\"\n",
    "    This example uses the playVideo method.\n",
    "    To Test ALTabletService, you need to run the script ON the robot.\n",
    "    \"\"\"\n",
    "    # Get the service ALTabletService.\n",
    "\n",
    "    try:\n",
    "        tabletService = session.service(\"ALTabletService\")\n",
    "\n",
    "        # Ensure that the tablet wifi is enable\n",
    "        tabletService.enableWifi()\n",
    "\n",
    "        # Play a video from the web and display the player\n",
    "        # If you want to play a local video, the ip of the robot from the tablet is 198.18.0.1\n",
    "        # Put the video in the HTML folder of your behavior\n",
    "        # \"http://198.18.0.1/apps/my_behavior/my_video.mp4\"\n",
    "        tabletService.playVideo(\"http://clips.vorwaerts-gmbh.de/big_buck_bunny.mp4\")\n",
    "\n",
    "        time.sleep(3)\n",
    "\n",
    "        # Display the time elapse / the total time of the video\n",
    "        print tabletService.getVideoPosition(), \" / \", tabletService.getVideoLength()\n",
    "\n",
    "        # Pause the video\n",
    "        tabletService.pauseVideo()\n",
    "\n",
    "        time.sleep(3)\n",
    "\n",
    "        # resume the video\n",
    "        tabletService.resumeVideo()\n",
    "\n",
    "        time.sleep(3)\n",
    "\n",
    "        # stop the video and hide the player\n",
    "        tabletService.stopVideo()\n",
    "    except Exception, e:\n",
    "        print \"Error was: \", e"
   ]
  },
  {
   "cell_type": "code",
   "execution_count": null,
   "id": "128859b7",
   "metadata": {},
   "outputs": [],
   "source": [
    "import Image\n",
    "\n",
    "def ImageShow_PIL(session):\n",
    "    \"\"\"\n",
    "    First get an image, then show it on the screen with PIL.\n",
    "    \"\"\"\n",
    "    # Get the service ALVideoDevice.\n",
    "\n",
    "    video_service = session.service(\"ALVideoDevice\")\n",
    "    resolution = 2    # VGA\n",
    "    colorSpace = 11   # RGB\n",
    "\n",
    "    videoClient = video_service.subscribe(\"python_client\", resolution, colorSpace, 5)\n",
    "\n",
    "    t0 = time.time()\n",
    "\n",
    "    # Get a camera image.\n",
    "    # image[6] contains the image data passed as an array of ASCII chars.\n",
    "    naoImage = video_service.getImageRemote(videoClient)\n",
    "\n",
    "    t1 = time.time()\n",
    "\n",
    "    # Time the image transfer.\n",
    "    print \"acquisition delay \", t1 - t0\n",
    "\n",
    "    video_service.unsubscribe(videoClient)\n",
    "\n",
    "\n",
    "    # Now we work with the image returned and save it as a PNG  using ImageDraw\n",
    "    # package.\n",
    "\n",
    "    # Get the image size and pixel array.\n",
    "    imageWidth = naoImage[0]\n",
    "    imageHeight = naoImage[1]\n",
    "    array = naoImage[6]\n",
    "    image_string = str(bytearray(array))\n",
    "\n",
    "    # Create a PIL Image from our pixel array.\n",
    "    im = Image.fromstring(\"RGB\", (imageWidth, imageHeight), image_string)\n",
    "\n",
    "    # Save the image.\n",
    "    im.save(\"camImage.png\", \"PNG\")\n",
    "\n",
    "    im.show()"
   ]
  },
  {
   "cell_type": "code",
   "execution_count": null,
   "id": "349ef0ba",
   "metadata": {},
   "outputs": [],
   "source": [
    "ImageShow_PIL(session)"
   ]
  },
  {
   "cell_type": "code",
   "execution_count": null,
   "id": "de480b59",
   "metadata": {},
   "outputs": [],
   "source": [
    "import qi\n",
    "import argparse\n",
    "import sys\n",
    "import time\n",
    "\n",
    "\n",
    "def tblServices(session, picURL):\n",
    "    \"\"\"\n",
    "    This example uses the executeJS method.\n",
    "    To Test ALTabletService, you need to run the script ON the robot.\n",
    "    \"\"\"\n",
    "    # Get the service ALTabletService.\n",
    "    tabletService = session.service(\"ALTabletService\")\n",
    "\n",
    "    try:\n",
    "        # Display a local web page located in boot-config/html folder\n",
    "        # The ip of the robot from the tablet is 198.18.0.1\n",
    "        tabletService.showWebview(picURL)\n",
    "\n",
    "        time.sleep(3)\n",
    "\n",
    "        # Javascript script for displaying a prompt\n",
    "        # ALTabletBinding is a javascript binding inject in the web page displayed on the tablet\n",
    "        script = \"\"\"\n",
    "            var name = prompt(\"Please enter your name\", \"Harry Pepper\");\n",
    "            ALTabletBinding.raiseEvent(name)\n",
    "        \"\"\"\n",
    "\n",
    "        # Don't forget to disconnect the signal at the end\n",
    "        signalID = 0\n",
    "\n",
    "        # function called when the signal onJSEvent is triggered\n",
    "        # by the javascript function ALTabletBinding.raiseEvent(name)\n",
    "        def callback(event):\n",
    "            print \"your name is:\", event\n",
    "            promise.setValue(True)\n",
    "\n",
    "        promise = qi.Promise()\n",
    "\n",
    "        # attach the callback function to onJSEvent signal\n",
    "        signalID = tabletService.onJSEvent.connect(callback)\n",
    "\n",
    "        # inject and execute the javascript in the current web page displayed\n",
    "        tabletService.executeJS(script)\n",
    "\n",
    "        try:\n",
    "            promise.future().hasValue(30000)\n",
    "        except RuntimeError:\n",
    "            raise RuntimeError('Timeout: no signal triggered')\n",
    "\n",
    "    except Exception, e:\n",
    "        print \"Error was:\", e\n",
    "\n",
    "    # Hide the web view\n",
    "    tabletService.hideWebview()\n",
    "    # disconnect the signal\n",
    "    tabletService.onJSEvent.disconnect(signalID)\n",
    "\n",
    "\n",
    "\n",
    "\n",
    "\"\"\"\n",
    "This example uses the executeJS method.\n",
    "To Test ALTabletService, you need to run the script ON the robot.\n",
    "\"\"\"\n",
    "\n",
    "tblServices(session, picURL)"
   ]
  },
  {
   "cell_type": "code",
   "execution_count": null,
   "id": "d9605e94",
   "metadata": {},
   "outputs": [],
   "source": []
  }
 ],
 "metadata": {
  "kernelspec": {
   "display_name": "Python 2.7.18",
   "language": "python",
   "name": "py27"
  },
  "language_info": {
   "codemirror_mode": {
    "name": "ipython",
    "version": 2
   },
   "file_extension": ".py",
   "mimetype": "text/x-python",
   "name": "python",
   "nbconvert_exporter": "python",
   "pygments_lexer": "ipython2",
   "version": "2.7.18"
  }
 },
 "nbformat": 4,
 "nbformat_minor": 5
}
